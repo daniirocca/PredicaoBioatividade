{
  "cells": [
    {
      "cell_type": "markdown",
      "metadata": {
        "id": "l0Y7_lgN4jzM"
      },
      "source": [
        "# **Projeto de Bioinformática e Análise de Dados - Descoberta Computacional de Fármacos**\n",
        "\n",
        "## **Análise Exploratória de Dados**\n",
        "\n",
        "\n",
        "Neste Jupyter notebook, construiremos um modelo de aprendizado de máquina usando os dados de bioatividade do ChEMBL.\n",
        "\n",
        "Realizaremos o Cálculo de Descritores e a Análise Exploratória de Dados.\n",
        "\n",
        "---\n"
      ]
    },
    {
      "cell_type": "markdown",
      "metadata": {
        "id": "o-4IOizard4P"
      },
      "source": [
        "## **Instalar sys**"
      ]
    },
    {
      "cell_type": "code",
      "execution_count": 35,
      "metadata": {
        "id": "H0mjQ2PcrSe5"
      },
      "outputs": [],
      "source": [
        "import sys\n",
        "sys.path.append('/usr/local/lib/python3.7/site-packages/')"
      ]
    },
    {
      "cell_type": "markdown",
      "metadata": {
        "id": "QmxXXFa4wTNG"
      },
      "source": [
        "## **Carregar dados de bioatividade**"
      ]
    },
    {
      "cell_type": "code",
      "execution_count": 36,
      "metadata": {
        "id": "Fpu5C7HlwV9s"
      },
      "outputs": [],
      "source": [
        "import pandas as pd"
      ]
    },
    {
      "cell_type": "code",
      "execution_count": 37,
      "metadata": {
        "id": "GCcE8J5XwjtB"
      },
      "outputs": [],
      "source": [
        "df = pd.read_csv('dengue_bioactivity_data_preprocessed.csv')"
      ]
    },
    {
      "cell_type": "markdown",
      "metadata": {
        "id": "YzN_S4Quro5S"
      },
      "source": [
        "## **Calcular Descritores de Lipinski**\n",
        "Christopher Lipinski, um cientista da Pfizer, desenvolveu um conjunto de regras práticas para avaliar a **semelhança com fármacos** de compostos. Essa semelhança com fármacos é baseada na Absorção, Distribuição, Metabolismo e Excreção (ADME), também conhecida como o perfil farmacocinético. Lipinski analisou todos os medicamentos aprovados pela FDA com atividade oral na formulação do que ficou conhecido como a **Regra dos Cinco** ou **Regra de Lipinski**.\n",
        "\n",
        "A Regra de Lipinski afirma o seguinte:\n",
        "* Peso molecular < 500 Dalton\n",
        "* Coeficiente de partição octanol-água (LogP) < 5\n",
        "* Doadores de ligações de hidrogênio < 5\n",
        "* Aceitadores de ligações de hidrogênio < 10\n"
      ]
    },
    {
      "cell_type": "markdown",
      "metadata": {
        "id": "9qn_eQcnxY7C"
      },
      "source": [
        "### **Importar bibliotecas**"
      ]
    },
    {
      "cell_type": "code",
      "execution_count": 38,
      "metadata": {
        "id": "CgBjIdT-rnRU"
      },
      "outputs": [],
      "source": [
        "import numpy as np\n",
        "from rdkit import Chem\n",
        "from rdkit.Chem import Descriptors, Lipinski"
      ]
    },
    {
      "cell_type": "markdown",
      "metadata": {
        "id": "JsgTV-ByxdMa"
      },
      "source": [
        "### **Calcular descritores**"
      ]
    },
    {
      "cell_type": "code",
      "execution_count": 39,
      "metadata": {
        "id": "bCXEY7a9ugO_"
      },
      "outputs": [],
      "source": [
        "# Inspired by: https://codeocean.com/explore/capsules?query=tag:data-curation\n",
        "\n",
        "def lipinski(smiles, verbose=False):\n",
        "\n",
        "    moldata= []\n",
        "    for elem in smiles:\n",
        "        mol=Chem.MolFromSmiles(elem)\n",
        "        moldata.append(mol)\n",
        "\n",
        "    baseData= np.arange(1,1)\n",
        "    i=0\n",
        "    for mol in moldata:\n",
        "\n",
        "        desc_MolWt = Descriptors.MolWt(mol)\n",
        "        desc_MolLogP = Descriptors.MolLogP(mol)\n",
        "        desc_NumHDonors = Lipinski.NumHDonors(mol)\n",
        "        desc_NumHAcceptors = Lipinski.NumHAcceptors(mol)\n",
        "\n",
        "        row = np.array([desc_MolWt,\n",
        "                        desc_MolLogP,\n",
        "                        desc_NumHDonors,\n",
        "                        desc_NumHAcceptors])\n",
        "\n",
        "        if(i==0):\n",
        "            baseData=row\n",
        "        else:\n",
        "            baseData=np.vstack([baseData, row])\n",
        "        i=i+1\n",
        "\n",
        "    columnNames=[\"MW\",\"LogP\",\"NumHDonors\",\"NumHAcceptors\"]\n",
        "    descriptors = pd.DataFrame(data=baseData,columns=columnNames)\n",
        "\n",
        "    return descriptors"
      ]
    },
    {
      "cell_type": "code",
      "execution_count": 40,
      "metadata": {
        "id": "ThFIFw8IukMY"
      },
      "outputs": [],
      "source": [
        "df_lipinski = lipinski(df.canonical_smiles)"
      ]
    },
    {
      "cell_type": "markdown",
      "metadata": {
        "id": "gUMlPfFrxicj"
      },
      "source": [
        "### **Combinar DataFrames**\n",
        "\n",
        "Vamos dar uma olhada nos 2 DataFrames que serão combinados."
      ]
    },
    {
      "cell_type": "code",
      "execution_count": 41,
      "metadata": {
        "id": "DaezyM5vwp9n"
      },
      "outputs": [
        {
          "data": {
            "text/html": [
              "<div>\n",
              "<style scoped>\n",
              "    .dataframe tbody tr th:only-of-type {\n",
              "        vertical-align: middle;\n",
              "    }\n",
              "\n",
              "    .dataframe tbody tr th {\n",
              "        vertical-align: top;\n",
              "    }\n",
              "\n",
              "    .dataframe thead th {\n",
              "        text-align: right;\n",
              "    }\n",
              "</style>\n",
              "<table border=\"1\" class=\"dataframe\">\n",
              "  <thead>\n",
              "    <tr style=\"text-align: right;\">\n",
              "      <th></th>\n",
              "      <th>MW</th>\n",
              "      <th>LogP</th>\n",
              "      <th>NumHDonors</th>\n",
              "      <th>NumHAcceptors</th>\n",
              "    </tr>\n",
              "  </thead>\n",
              "  <tbody>\n",
              "    <tr>\n",
              "      <th>0</th>\n",
              "      <td>409.486</td>\n",
              "      <td>2.1241</td>\n",
              "      <td>2.0</td>\n",
              "      <td>5.0</td>\n",
              "    </tr>\n",
              "    <tr>\n",
              "      <th>1</th>\n",
              "      <td>474.517</td>\n",
              "      <td>4.5496</td>\n",
              "      <td>1.0</td>\n",
              "      <td>6.0</td>\n",
              "    </tr>\n",
              "    <tr>\n",
              "      <th>2</th>\n",
              "      <td>582.678</td>\n",
              "      <td>6.0240</td>\n",
              "      <td>3.0</td>\n",
              "      <td>7.0</td>\n",
              "    </tr>\n",
              "    <tr>\n",
              "      <th>3</th>\n",
              "      <td>456.668</td>\n",
              "      <td>3.4091</td>\n",
              "      <td>4.0</td>\n",
              "      <td>6.0</td>\n",
              "    </tr>\n",
              "    <tr>\n",
              "      <th>4</th>\n",
              "      <td>481.118</td>\n",
              "      <td>2.8128</td>\n",
              "      <td>6.0</td>\n",
              "      <td>6.0</td>\n",
              "    </tr>\n",
              "    <tr>\n",
              "      <th>5</th>\n",
              "      <td>409.432</td>\n",
              "      <td>4.8883</td>\n",
              "      <td>2.0</td>\n",
              "      <td>3.0</td>\n",
              "    </tr>\n",
              "    <tr>\n",
              "      <th>6</th>\n",
              "      <td>985.127</td>\n",
              "      <td>0.6131</td>\n",
              "      <td>8.0</td>\n",
              "      <td>20.0</td>\n",
              "    </tr>\n",
              "    <tr>\n",
              "      <th>7</th>\n",
              "      <td>430.308</td>\n",
              "      <td>5.7610</td>\n",
              "      <td>2.0</td>\n",
              "      <td>6.0</td>\n",
              "    </tr>\n",
              "    <tr>\n",
              "      <th>8</th>\n",
              "      <td>373.334</td>\n",
              "      <td>4.9884</td>\n",
              "      <td>1.0</td>\n",
              "      <td>5.0</td>\n",
              "    </tr>\n",
              "    <tr>\n",
              "      <th>9</th>\n",
              "      <td>875.106</td>\n",
              "      <td>5.6014</td>\n",
              "      <td>3.0</td>\n",
              "      <td>14.0</td>\n",
              "    </tr>\n",
              "  </tbody>\n",
              "</table>\n",
              "</div>"
            ],
            "text/plain": [
              "        MW    LogP  NumHDonors  NumHAcceptors\n",
              "0  409.486  2.1241         2.0            5.0\n",
              "1  474.517  4.5496         1.0            6.0\n",
              "2  582.678  6.0240         3.0            7.0\n",
              "3  456.668  3.4091         4.0            6.0\n",
              "4  481.118  2.8128         6.0            6.0\n",
              "5  409.432  4.8883         2.0            3.0\n",
              "6  985.127  0.6131         8.0           20.0\n",
              "7  430.308  5.7610         2.0            6.0\n",
              "8  373.334  4.9884         1.0            5.0\n",
              "9  875.106  5.6014         3.0           14.0"
            ]
          },
          "execution_count": 41,
          "metadata": {},
          "output_type": "execute_result"
        }
      ],
      "source": [
        "df_lipinski"
      ]
    },
    {
      "cell_type": "code",
      "execution_count": 42,
      "metadata": {
        "id": "9-ChzM8_wuq_"
      },
      "outputs": [
        {
          "data": {
            "text/html": [
              "<div>\n",
              "<style scoped>\n",
              "    .dataframe tbody tr th:only-of-type {\n",
              "        vertical-align: middle;\n",
              "    }\n",
              "\n",
              "    .dataframe tbody tr th {\n",
              "        vertical-align: top;\n",
              "    }\n",
              "\n",
              "    .dataframe thead th {\n",
              "        text-align: right;\n",
              "    }\n",
              "</style>\n",
              "<table border=\"1\" class=\"dataframe\">\n",
              "  <thead>\n",
              "    <tr style=\"text-align: right;\">\n",
              "      <th></th>\n",
              "      <th>molecule_chembl_id</th>\n",
              "      <th>canonical_smiles</th>\n",
              "      <th>standard_value</th>\n",
              "      <th>bioactivity_class</th>\n",
              "    </tr>\n",
              "  </thead>\n",
              "  <tbody>\n",
              "    <tr>\n",
              "      <th>0</th>\n",
              "      <td>CHEMBL2332247</td>\n",
              "      <td>O=C(CNCc1ccc(C(=O)N2CCCCC2)cc1)NC(=O)COc1ccccc1</td>\n",
              "      <td>100000.0</td>\n",
              "      <td>inactive</td>\n",
              "    </tr>\n",
              "    <tr>\n",
              "      <th>1</th>\n",
              "      <td>CHEMBL4175102</td>\n",
              "      <td>COc1ccc(-c2cc(-c3ccc4cc(F)ccc4n3)n(-c3ccc(S(N)...</td>\n",
              "      <td>730.0</td>\n",
              "      <td>active</td>\n",
              "    </tr>\n",
              "    <tr>\n",
              "      <th>2</th>\n",
              "      <td>CHEMBL4526128</td>\n",
              "      <td>O=C(N[C@@H](Cc1ccc(O)cc1)C(=O)O)c1cc(-c2ccccc2...</td>\n",
              "      <td>6800.0</td>\n",
              "      <td>intermediate</td>\n",
              "    </tr>\n",
              "    <tr>\n",
              "      <th>3</th>\n",
              "      <td>CHEMBL4443913</td>\n",
              "      <td>CCCCCCCCCCCCNCCNC(=O)C[C@@]1(O)C[C@@H](O)[C@@H...</td>\n",
              "      <td>6900.0</td>\n",
              "      <td>intermediate</td>\n",
              "    </tr>\n",
              "    <tr>\n",
              "      <th>4</th>\n",
              "      <td>CHEMBL4572441</td>\n",
              "      <td>CCCCCCCCCCCCCCNCCNC(=O)C[C@]1(O)C[C@@H](O)[C@@...</td>\n",
              "      <td>6500.0</td>\n",
              "      <td>intermediate</td>\n",
              "    </tr>\n",
              "    <tr>\n",
              "      <th>5</th>\n",
              "      <td>CHEMBL1138</td>\n",
              "      <td>O=C1[C@H](CC[C@H](O)c2ccc(F)cc2)[C@@H](c2ccc(O...</td>\n",
              "      <td>13070.0</td>\n",
              "      <td>inactive</td>\n",
              "    </tr>\n",
              "    <tr>\n",
              "      <th>6</th>\n",
              "      <td>CHEMBL506569</td>\n",
              "      <td>CC(=O)O[C@H]1C[C@H](O[C@H]2[C@@H](O)C[C@H](O[C...</td>\n",
              "      <td>500.0</td>\n",
              "      <td>active</td>\n",
              "    </tr>\n",
              "    <tr>\n",
              "      <th>7</th>\n",
              "      <td>CHEMBL5176406</td>\n",
              "      <td>FC(F)(F)Oc1cccc(Nc2ccnc(Nc3cccc(OC(F)(F)F)c3)n...</td>\n",
              "      <td>5000.0</td>\n",
              "      <td>intermediate</td>\n",
              "    </tr>\n",
              "    <tr>\n",
              "      <th>8</th>\n",
              "      <td>CHEMBL5182661</td>\n",
              "      <td>CC(=O)c1cccc(-c2cc(Nc3ccc(OC(F)(F)F)cc3)ncn2)c1</td>\n",
              "      <td>5000.0</td>\n",
              "      <td>intermediate</td>\n",
              "    </tr>\n",
              "    <tr>\n",
              "      <th>9</th>\n",
              "      <td>CHEMBL263291</td>\n",
              "      <td>CC[C@H](C)[C@H]1O[C@]2(CC[C@@H]1C)C[C@@H]1C[C@...</td>\n",
              "      <td>1660.0</td>\n",
              "      <td>intermediate</td>\n",
              "    </tr>\n",
              "  </tbody>\n",
              "</table>\n",
              "</div>"
            ],
            "text/plain": [
              "  molecule_chembl_id                                   canonical_smiles  \\\n",
              "0      CHEMBL2332247    O=C(CNCc1ccc(C(=O)N2CCCCC2)cc1)NC(=O)COc1ccccc1   \n",
              "1      CHEMBL4175102  COc1ccc(-c2cc(-c3ccc4cc(F)ccc4n3)n(-c3ccc(S(N)...   \n",
              "2      CHEMBL4526128  O=C(N[C@@H](Cc1ccc(O)cc1)C(=O)O)c1cc(-c2ccccc2...   \n",
              "3      CHEMBL4443913  CCCCCCCCCCCCNCCNC(=O)C[C@@]1(O)C[C@@H](O)[C@@H...   \n",
              "4      CHEMBL4572441  CCCCCCCCCCCCCCNCCNC(=O)C[C@]1(O)C[C@@H](O)[C@@...   \n",
              "5         CHEMBL1138  O=C1[C@H](CC[C@H](O)c2ccc(F)cc2)[C@@H](c2ccc(O...   \n",
              "6       CHEMBL506569  CC(=O)O[C@H]1C[C@H](O[C@H]2[C@@H](O)C[C@H](O[C...   \n",
              "7      CHEMBL5176406  FC(F)(F)Oc1cccc(Nc2ccnc(Nc3cccc(OC(F)(F)F)c3)n...   \n",
              "8      CHEMBL5182661    CC(=O)c1cccc(-c2cc(Nc3ccc(OC(F)(F)F)cc3)ncn2)c1   \n",
              "9       CHEMBL263291  CC[C@H](C)[C@H]1O[C@]2(CC[C@@H]1C)C[C@@H]1C[C@...   \n",
              "\n",
              "   standard_value bioactivity_class  \n",
              "0        100000.0          inactive  \n",
              "1           730.0            active  \n",
              "2          6800.0      intermediate  \n",
              "3          6900.0      intermediate  \n",
              "4          6500.0      intermediate  \n",
              "5         13070.0          inactive  \n",
              "6           500.0            active  \n",
              "7          5000.0      intermediate  \n",
              "8          5000.0      intermediate  \n",
              "9          1660.0      intermediate  "
            ]
          },
          "execution_count": 42,
          "metadata": {},
          "output_type": "execute_result"
        }
      ],
      "source": [
        "df"
      ]
    },
    {
      "cell_type": "markdown",
      "metadata": {
        "id": "eET6iZ1Aw3oe"
      },
      "source": [
        "Agora, vamos combinar os 2 DataFrame"
      ]
    },
    {
      "cell_type": "code",
      "execution_count": 43,
      "metadata": {
        "id": "L9nUZC0Ww3gp"
      },
      "outputs": [],
      "source": [
        "df_combined = pd.concat([df,df_lipinski], axis=1)"
      ]
    },
    {
      "cell_type": "code",
      "execution_count": 44,
      "metadata": {
        "id": "FRBfBP3QxFJp"
      },
      "outputs": [
        {
          "data": {
            "text/html": [
              "<div>\n",
              "<style scoped>\n",
              "    .dataframe tbody tr th:only-of-type {\n",
              "        vertical-align: middle;\n",
              "    }\n",
              "\n",
              "    .dataframe tbody tr th {\n",
              "        vertical-align: top;\n",
              "    }\n",
              "\n",
              "    .dataframe thead th {\n",
              "        text-align: right;\n",
              "    }\n",
              "</style>\n",
              "<table border=\"1\" class=\"dataframe\">\n",
              "  <thead>\n",
              "    <tr style=\"text-align: right;\">\n",
              "      <th></th>\n",
              "      <th>molecule_chembl_id</th>\n",
              "      <th>canonical_smiles</th>\n",
              "      <th>standard_value</th>\n",
              "      <th>bioactivity_class</th>\n",
              "      <th>MW</th>\n",
              "      <th>LogP</th>\n",
              "      <th>NumHDonors</th>\n",
              "      <th>NumHAcceptors</th>\n",
              "    </tr>\n",
              "  </thead>\n",
              "  <tbody>\n",
              "    <tr>\n",
              "      <th>0</th>\n",
              "      <td>CHEMBL2332247</td>\n",
              "      <td>O=C(CNCc1ccc(C(=O)N2CCCCC2)cc1)NC(=O)COc1ccccc1</td>\n",
              "      <td>100000.0</td>\n",
              "      <td>inactive</td>\n",
              "      <td>409.486</td>\n",
              "      <td>2.1241</td>\n",
              "      <td>2.0</td>\n",
              "      <td>5.0</td>\n",
              "    </tr>\n",
              "    <tr>\n",
              "      <th>1</th>\n",
              "      <td>CHEMBL4175102</td>\n",
              "      <td>COc1ccc(-c2cc(-c3ccc4cc(F)ccc4n3)n(-c3ccc(S(N)...</td>\n",
              "      <td>730.0</td>\n",
              "      <td>active</td>\n",
              "      <td>474.517</td>\n",
              "      <td>4.5496</td>\n",
              "      <td>1.0</td>\n",
              "      <td>6.0</td>\n",
              "    </tr>\n",
              "    <tr>\n",
              "      <th>2</th>\n",
              "      <td>CHEMBL4526128</td>\n",
              "      <td>O=C(N[C@@H](Cc1ccc(O)cc1)C(=O)O)c1cc(-c2ccccc2...</td>\n",
              "      <td>6800.0</td>\n",
              "      <td>intermediate</td>\n",
              "      <td>582.678</td>\n",
              "      <td>6.0240</td>\n",
              "      <td>3.0</td>\n",
              "      <td>7.0</td>\n",
              "    </tr>\n",
              "    <tr>\n",
              "      <th>3</th>\n",
              "      <td>CHEMBL4443913</td>\n",
              "      <td>CCCCCCCCCCCCNCCNC(=O)C[C@@]1(O)C[C@@H](O)[C@@H...</td>\n",
              "      <td>6900.0</td>\n",
              "      <td>intermediate</td>\n",
              "      <td>456.668</td>\n",
              "      <td>3.4091</td>\n",
              "      <td>4.0</td>\n",
              "      <td>6.0</td>\n",
              "    </tr>\n",
              "    <tr>\n",
              "      <th>4</th>\n",
              "      <td>CHEMBL4572441</td>\n",
              "      <td>CCCCCCCCCCCCCCNCCNC(=O)C[C@]1(O)C[C@@H](O)[C@@...</td>\n",
              "      <td>6500.0</td>\n",
              "      <td>intermediate</td>\n",
              "      <td>481.118</td>\n",
              "      <td>2.8128</td>\n",
              "      <td>6.0</td>\n",
              "      <td>6.0</td>\n",
              "    </tr>\n",
              "    <tr>\n",
              "      <th>5</th>\n",
              "      <td>CHEMBL1138</td>\n",
              "      <td>O=C1[C@H](CC[C@H](O)c2ccc(F)cc2)[C@@H](c2ccc(O...</td>\n",
              "      <td>13070.0</td>\n",
              "      <td>inactive</td>\n",
              "      <td>409.432</td>\n",
              "      <td>4.8883</td>\n",
              "      <td>2.0</td>\n",
              "      <td>3.0</td>\n",
              "    </tr>\n",
              "    <tr>\n",
              "      <th>6</th>\n",
              "      <td>CHEMBL506569</td>\n",
              "      <td>CC(=O)O[C@H]1C[C@H](O[C@H]2[C@@H](O)C[C@H](O[C...</td>\n",
              "      <td>500.0</td>\n",
              "      <td>active</td>\n",
              "      <td>985.127</td>\n",
              "      <td>0.6131</td>\n",
              "      <td>8.0</td>\n",
              "      <td>20.0</td>\n",
              "    </tr>\n",
              "    <tr>\n",
              "      <th>7</th>\n",
              "      <td>CHEMBL5176406</td>\n",
              "      <td>FC(F)(F)Oc1cccc(Nc2ccnc(Nc3cccc(OC(F)(F)F)c3)n...</td>\n",
              "      <td>5000.0</td>\n",
              "      <td>intermediate</td>\n",
              "      <td>430.308</td>\n",
              "      <td>5.7610</td>\n",
              "      <td>2.0</td>\n",
              "      <td>6.0</td>\n",
              "    </tr>\n",
              "    <tr>\n",
              "      <th>8</th>\n",
              "      <td>CHEMBL5182661</td>\n",
              "      <td>CC(=O)c1cccc(-c2cc(Nc3ccc(OC(F)(F)F)cc3)ncn2)c1</td>\n",
              "      <td>5000.0</td>\n",
              "      <td>intermediate</td>\n",
              "      <td>373.334</td>\n",
              "      <td>4.9884</td>\n",
              "      <td>1.0</td>\n",
              "      <td>5.0</td>\n",
              "    </tr>\n",
              "    <tr>\n",
              "      <th>9</th>\n",
              "      <td>CHEMBL263291</td>\n",
              "      <td>CC[C@H](C)[C@H]1O[C@]2(CC[C@@H]1C)C[C@@H]1C[C@...</td>\n",
              "      <td>1660.0</td>\n",
              "      <td>intermediate</td>\n",
              "      <td>875.106</td>\n",
              "      <td>5.6014</td>\n",
              "      <td>3.0</td>\n",
              "      <td>14.0</td>\n",
              "    </tr>\n",
              "  </tbody>\n",
              "</table>\n",
              "</div>"
            ],
            "text/plain": [
              "  molecule_chembl_id                                   canonical_smiles  \\\n",
              "0      CHEMBL2332247    O=C(CNCc1ccc(C(=O)N2CCCCC2)cc1)NC(=O)COc1ccccc1   \n",
              "1      CHEMBL4175102  COc1ccc(-c2cc(-c3ccc4cc(F)ccc4n3)n(-c3ccc(S(N)...   \n",
              "2      CHEMBL4526128  O=C(N[C@@H](Cc1ccc(O)cc1)C(=O)O)c1cc(-c2ccccc2...   \n",
              "3      CHEMBL4443913  CCCCCCCCCCCCNCCNC(=O)C[C@@]1(O)C[C@@H](O)[C@@H...   \n",
              "4      CHEMBL4572441  CCCCCCCCCCCCCCNCCNC(=O)C[C@]1(O)C[C@@H](O)[C@@...   \n",
              "5         CHEMBL1138  O=C1[C@H](CC[C@H](O)c2ccc(F)cc2)[C@@H](c2ccc(O...   \n",
              "6       CHEMBL506569  CC(=O)O[C@H]1C[C@H](O[C@H]2[C@@H](O)C[C@H](O[C...   \n",
              "7      CHEMBL5176406  FC(F)(F)Oc1cccc(Nc2ccnc(Nc3cccc(OC(F)(F)F)c3)n...   \n",
              "8      CHEMBL5182661    CC(=O)c1cccc(-c2cc(Nc3ccc(OC(F)(F)F)cc3)ncn2)c1   \n",
              "9       CHEMBL263291  CC[C@H](C)[C@H]1O[C@]2(CC[C@@H]1C)C[C@@H]1C[C@...   \n",
              "\n",
              "   standard_value bioactivity_class       MW    LogP  NumHDonors  \\\n",
              "0        100000.0          inactive  409.486  2.1241         2.0   \n",
              "1           730.0            active  474.517  4.5496         1.0   \n",
              "2          6800.0      intermediate  582.678  6.0240         3.0   \n",
              "3          6900.0      intermediate  456.668  3.4091         4.0   \n",
              "4          6500.0      intermediate  481.118  2.8128         6.0   \n",
              "5         13070.0          inactive  409.432  4.8883         2.0   \n",
              "6           500.0            active  985.127  0.6131         8.0   \n",
              "7          5000.0      intermediate  430.308  5.7610         2.0   \n",
              "8          5000.0      intermediate  373.334  4.9884         1.0   \n",
              "9          1660.0      intermediate  875.106  5.6014         3.0   \n",
              "\n",
              "   NumHAcceptors  \n",
              "0            5.0  \n",
              "1            6.0  \n",
              "2            7.0  \n",
              "3            6.0  \n",
              "4            6.0  \n",
              "5            3.0  \n",
              "6           20.0  \n",
              "7            6.0  \n",
              "8            5.0  \n",
              "9           14.0  "
            ]
          },
          "execution_count": 44,
          "metadata": {},
          "output_type": "execute_result"
        }
      ],
      "source": [
        "df_combined"
      ]
    },
    {
      "cell_type": "markdown",
      "metadata": {
        "id": "e0MLOedB6j96"
      },
      "source": [
        "### **Converter IC50 para pIC50**\n",
        "Para permitir que os dados de **IC50** sejam distribuídos de forma mais uniforme, iremos converter **IC50** para a escala logarítmica negativa, que é essencialmente **-log10(IC50)**.\n",
        "\n",
        "Esta função personalizada pIC50() aceitará um DataFrame como entrada e irá:\n",
        "* Pegar os valores de IC50 da coluna ``standard_value`` e convertê-los de nM para M, multiplicando o valor por 10$^{-9}$\n",
        "* Pegar o valor molar e aplicar -log10\n",
        "* Excluir a coluna ``standard_value`` e criar uma nova coluna ``pIC50``\n"
      ]
    },
    {
      "cell_type": "code",
      "execution_count": 45,
      "metadata": {
        "id": "UXMuFQoQ4pZF"
      },
      "outputs": [],
      "source": [
        "# https://github.com/chaninlab/estrogen-receptor-alpha-qsar/blob/master/02_ER_alpha_RO5.ipynb\n",
        "\n",
        "import numpy as np\n",
        "\n",
        "def pIC50(input):\n",
        "    pIC50 = []\n",
        "\n",
        "    for i in input['standard_value_norm']:\n",
        "        molar = i*(10**-9) # Converts nM to M\n",
        "        pIC50.append(-np.log10(molar))\n",
        "\n",
        "    input['pIC50'] = pIC50\n",
        "    x = input.drop('standard_value_norm', axis='columns') # Changed 1 to axis='columns'\n",
        "\n",
        "    return x"
      ]
    },
    {
      "cell_type": "markdown",
      "metadata": {
        "id": "WU5Fh1h2OaJJ"
      },
      "source": [
        "Ponto a ser observado: valores maiores que 100.000.000 serão fixados em 100.000.000, caso contrário, o valor logarítmico negativo se tornará negativo."
      ]
    },
    {
      "cell_type": "code",
      "execution_count": 46,
      "metadata": {
        "id": "QuUTFUpcR1wU"
      },
      "outputs": [
        {
          "data": {
            "text/plain": [
              "count        10.000000\n",
              "mean      14616.000000\n",
              "std       30229.104519\n",
              "min         500.000000\n",
              "25%        2495.000000\n",
              "50%        5750.000000\n",
              "75%        6875.000000\n",
              "max      100000.000000\n",
              "Name: standard_value, dtype: float64"
            ]
          },
          "execution_count": 46,
          "metadata": {},
          "output_type": "execute_result"
        }
      ],
      "source": [
        "df_combined.standard_value.describe()"
      ]
    },
    {
      "cell_type": "code",
      "execution_count": 47,
      "metadata": {
        "id": "QyiJ0to5N6Z_"
      },
      "outputs": [
        {
          "data": {
            "text/plain": [
              "1.0"
            ]
          },
          "execution_count": 47,
          "metadata": {},
          "output_type": "execute_result"
        }
      ],
      "source": [
        "-np.log10( (10**-9)* 100000000 )"
      ]
    },
    {
      "cell_type": "code",
      "execution_count": 48,
      "metadata": {
        "id": "9S1aJkOYOP6K"
      },
      "outputs": [
        {
          "data": {
            "text/plain": [
              "-1.0"
            ]
          },
          "execution_count": 48,
          "metadata": {},
          "output_type": "execute_result"
        }
      ],
      "source": [
        "-np.log10( (10**-9)* 10000000000 )"
      ]
    },
    {
      "cell_type": "code",
      "execution_count": 49,
      "metadata": {
        "id": "iktHDDwtPDwl"
      },
      "outputs": [],
      "source": [
        "def norm_value(input):\n",
        "    norm = []\n",
        "\n",
        "    for i in input['standard_value']:\n",
        "        if i > 100000000:\n",
        "          i = 100000000\n",
        "        norm.append(i)\n",
        "\n",
        "    input['standard_value_norm'] = norm\n",
        "    x = input.drop('standard_value', axis=1)\n",
        "\n",
        "    return x"
      ]
    },
    {
      "cell_type": "markdown",
      "metadata": {
        "id": "EkrTs7RfPsrH"
      },
      "source": [
        "Primeiro, aplicaremos a função norm_value() para que os valores na coluna standard_value sejam normalizados."
      ]
    },
    {
      "cell_type": "code",
      "execution_count": 50,
      "metadata": {
        "id": "EX2Mj2-ZP1Rj"
      },
      "outputs": [
        {
          "data": {
            "text/html": [
              "<div>\n",
              "<style scoped>\n",
              "    .dataframe tbody tr th:only-of-type {\n",
              "        vertical-align: middle;\n",
              "    }\n",
              "\n",
              "    .dataframe tbody tr th {\n",
              "        vertical-align: top;\n",
              "    }\n",
              "\n",
              "    .dataframe thead th {\n",
              "        text-align: right;\n",
              "    }\n",
              "</style>\n",
              "<table border=\"1\" class=\"dataframe\">\n",
              "  <thead>\n",
              "    <tr style=\"text-align: right;\">\n",
              "      <th></th>\n",
              "      <th>molecule_chembl_id</th>\n",
              "      <th>canonical_smiles</th>\n",
              "      <th>bioactivity_class</th>\n",
              "      <th>MW</th>\n",
              "      <th>LogP</th>\n",
              "      <th>NumHDonors</th>\n",
              "      <th>NumHAcceptors</th>\n",
              "      <th>standard_value_norm</th>\n",
              "    </tr>\n",
              "  </thead>\n",
              "  <tbody>\n",
              "    <tr>\n",
              "      <th>0</th>\n",
              "      <td>CHEMBL2332247</td>\n",
              "      <td>O=C(CNCc1ccc(C(=O)N2CCCCC2)cc1)NC(=O)COc1ccccc1</td>\n",
              "      <td>inactive</td>\n",
              "      <td>409.486</td>\n",
              "      <td>2.1241</td>\n",
              "      <td>2.0</td>\n",
              "      <td>5.0</td>\n",
              "      <td>100000.0</td>\n",
              "    </tr>\n",
              "    <tr>\n",
              "      <th>1</th>\n",
              "      <td>CHEMBL4175102</td>\n",
              "      <td>COc1ccc(-c2cc(-c3ccc4cc(F)ccc4n3)n(-c3ccc(S(N)...</td>\n",
              "      <td>active</td>\n",
              "      <td>474.517</td>\n",
              "      <td>4.5496</td>\n",
              "      <td>1.0</td>\n",
              "      <td>6.0</td>\n",
              "      <td>730.0</td>\n",
              "    </tr>\n",
              "    <tr>\n",
              "      <th>2</th>\n",
              "      <td>CHEMBL4526128</td>\n",
              "      <td>O=C(N[C@@H](Cc1ccc(O)cc1)C(=O)O)c1cc(-c2ccccc2...</td>\n",
              "      <td>intermediate</td>\n",
              "      <td>582.678</td>\n",
              "      <td>6.0240</td>\n",
              "      <td>3.0</td>\n",
              "      <td>7.0</td>\n",
              "      <td>6800.0</td>\n",
              "    </tr>\n",
              "    <tr>\n",
              "      <th>3</th>\n",
              "      <td>CHEMBL4443913</td>\n",
              "      <td>CCCCCCCCCCCCNCCNC(=O)C[C@@]1(O)C[C@@H](O)[C@@H...</td>\n",
              "      <td>intermediate</td>\n",
              "      <td>456.668</td>\n",
              "      <td>3.4091</td>\n",
              "      <td>4.0</td>\n",
              "      <td>6.0</td>\n",
              "      <td>6900.0</td>\n",
              "    </tr>\n",
              "    <tr>\n",
              "      <th>4</th>\n",
              "      <td>CHEMBL4572441</td>\n",
              "      <td>CCCCCCCCCCCCCCNCCNC(=O)C[C@]1(O)C[C@@H](O)[C@@...</td>\n",
              "      <td>intermediate</td>\n",
              "      <td>481.118</td>\n",
              "      <td>2.8128</td>\n",
              "      <td>6.0</td>\n",
              "      <td>6.0</td>\n",
              "      <td>6500.0</td>\n",
              "    </tr>\n",
              "    <tr>\n",
              "      <th>5</th>\n",
              "      <td>CHEMBL1138</td>\n",
              "      <td>O=C1[C@H](CC[C@H](O)c2ccc(F)cc2)[C@@H](c2ccc(O...</td>\n",
              "      <td>inactive</td>\n",
              "      <td>409.432</td>\n",
              "      <td>4.8883</td>\n",
              "      <td>2.0</td>\n",
              "      <td>3.0</td>\n",
              "      <td>13070.0</td>\n",
              "    </tr>\n",
              "    <tr>\n",
              "      <th>6</th>\n",
              "      <td>CHEMBL506569</td>\n",
              "      <td>CC(=O)O[C@H]1C[C@H](O[C@H]2[C@@H](O)C[C@H](O[C...</td>\n",
              "      <td>active</td>\n",
              "      <td>985.127</td>\n",
              "      <td>0.6131</td>\n",
              "      <td>8.0</td>\n",
              "      <td>20.0</td>\n",
              "      <td>500.0</td>\n",
              "    </tr>\n",
              "    <tr>\n",
              "      <th>7</th>\n",
              "      <td>CHEMBL5176406</td>\n",
              "      <td>FC(F)(F)Oc1cccc(Nc2ccnc(Nc3cccc(OC(F)(F)F)c3)n...</td>\n",
              "      <td>intermediate</td>\n",
              "      <td>430.308</td>\n",
              "      <td>5.7610</td>\n",
              "      <td>2.0</td>\n",
              "      <td>6.0</td>\n",
              "      <td>5000.0</td>\n",
              "    </tr>\n",
              "    <tr>\n",
              "      <th>8</th>\n",
              "      <td>CHEMBL5182661</td>\n",
              "      <td>CC(=O)c1cccc(-c2cc(Nc3ccc(OC(F)(F)F)cc3)ncn2)c1</td>\n",
              "      <td>intermediate</td>\n",
              "      <td>373.334</td>\n",
              "      <td>4.9884</td>\n",
              "      <td>1.0</td>\n",
              "      <td>5.0</td>\n",
              "      <td>5000.0</td>\n",
              "    </tr>\n",
              "    <tr>\n",
              "      <th>9</th>\n",
              "      <td>CHEMBL263291</td>\n",
              "      <td>CC[C@H](C)[C@H]1O[C@]2(CC[C@@H]1C)C[C@@H]1C[C@...</td>\n",
              "      <td>intermediate</td>\n",
              "      <td>875.106</td>\n",
              "      <td>5.6014</td>\n",
              "      <td>3.0</td>\n",
              "      <td>14.0</td>\n",
              "      <td>1660.0</td>\n",
              "    </tr>\n",
              "  </tbody>\n",
              "</table>\n",
              "</div>"
            ],
            "text/plain": [
              "  molecule_chembl_id                                   canonical_smiles  \\\n",
              "0      CHEMBL2332247    O=C(CNCc1ccc(C(=O)N2CCCCC2)cc1)NC(=O)COc1ccccc1   \n",
              "1      CHEMBL4175102  COc1ccc(-c2cc(-c3ccc4cc(F)ccc4n3)n(-c3ccc(S(N)...   \n",
              "2      CHEMBL4526128  O=C(N[C@@H](Cc1ccc(O)cc1)C(=O)O)c1cc(-c2ccccc2...   \n",
              "3      CHEMBL4443913  CCCCCCCCCCCCNCCNC(=O)C[C@@]1(O)C[C@@H](O)[C@@H...   \n",
              "4      CHEMBL4572441  CCCCCCCCCCCCCCNCCNC(=O)C[C@]1(O)C[C@@H](O)[C@@...   \n",
              "5         CHEMBL1138  O=C1[C@H](CC[C@H](O)c2ccc(F)cc2)[C@@H](c2ccc(O...   \n",
              "6       CHEMBL506569  CC(=O)O[C@H]1C[C@H](O[C@H]2[C@@H](O)C[C@H](O[C...   \n",
              "7      CHEMBL5176406  FC(F)(F)Oc1cccc(Nc2ccnc(Nc3cccc(OC(F)(F)F)c3)n...   \n",
              "8      CHEMBL5182661    CC(=O)c1cccc(-c2cc(Nc3ccc(OC(F)(F)F)cc3)ncn2)c1   \n",
              "9       CHEMBL263291  CC[C@H](C)[C@H]1O[C@]2(CC[C@@H]1C)C[C@@H]1C[C@...   \n",
              "\n",
              "  bioactivity_class       MW    LogP  NumHDonors  NumHAcceptors  \\\n",
              "0          inactive  409.486  2.1241         2.0            5.0   \n",
              "1            active  474.517  4.5496         1.0            6.0   \n",
              "2      intermediate  582.678  6.0240         3.0            7.0   \n",
              "3      intermediate  456.668  3.4091         4.0            6.0   \n",
              "4      intermediate  481.118  2.8128         6.0            6.0   \n",
              "5          inactive  409.432  4.8883         2.0            3.0   \n",
              "6            active  985.127  0.6131         8.0           20.0   \n",
              "7      intermediate  430.308  5.7610         2.0            6.0   \n",
              "8      intermediate  373.334  4.9884         1.0            5.0   \n",
              "9      intermediate  875.106  5.6014         3.0           14.0   \n",
              "\n",
              "   standard_value_norm  \n",
              "0             100000.0  \n",
              "1                730.0  \n",
              "2               6800.0  \n",
              "3               6900.0  \n",
              "4               6500.0  \n",
              "5              13070.0  \n",
              "6                500.0  \n",
              "7               5000.0  \n",
              "8               5000.0  \n",
              "9               1660.0  "
            ]
          },
          "execution_count": 50,
          "metadata": {},
          "output_type": "execute_result"
        }
      ],
      "source": [
        "df_norm = norm_value(df_combined)\n",
        "df_norm"
      ]
    },
    {
      "cell_type": "code",
      "execution_count": 51,
      "metadata": {
        "id": "hb1eKrIjRiH9"
      },
      "outputs": [
        {
          "data": {
            "text/plain": [
              "count        10.000000\n",
              "mean      14616.000000\n",
              "std       30229.104519\n",
              "min         500.000000\n",
              "25%        2495.000000\n",
              "50%        5750.000000\n",
              "75%        6875.000000\n",
              "max      100000.000000\n",
              "Name: standard_value_norm, dtype: float64"
            ]
          },
          "execution_count": 51,
          "metadata": {},
          "output_type": "execute_result"
        }
      ],
      "source": [
        "df_norm.standard_value_norm.describe()"
      ]
    },
    {
      "cell_type": "code",
      "execution_count": 52,
      "metadata": {
        "id": "UDKZzmK57YnS"
      },
      "outputs": [
        {
          "data": {
            "text/html": [
              "<div>\n",
              "<style scoped>\n",
              "    .dataframe tbody tr th:only-of-type {\n",
              "        vertical-align: middle;\n",
              "    }\n",
              "\n",
              "    .dataframe tbody tr th {\n",
              "        vertical-align: top;\n",
              "    }\n",
              "\n",
              "    .dataframe thead th {\n",
              "        text-align: right;\n",
              "    }\n",
              "</style>\n",
              "<table border=\"1\" class=\"dataframe\">\n",
              "  <thead>\n",
              "    <tr style=\"text-align: right;\">\n",
              "      <th></th>\n",
              "      <th>molecule_chembl_id</th>\n",
              "      <th>canonical_smiles</th>\n",
              "      <th>bioactivity_class</th>\n",
              "      <th>MW</th>\n",
              "      <th>LogP</th>\n",
              "      <th>NumHDonors</th>\n",
              "      <th>NumHAcceptors</th>\n",
              "      <th>pIC50</th>\n",
              "    </tr>\n",
              "  </thead>\n",
              "  <tbody>\n",
              "    <tr>\n",
              "      <th>0</th>\n",
              "      <td>CHEMBL2332247</td>\n",
              "      <td>O=C(CNCc1ccc(C(=O)N2CCCCC2)cc1)NC(=O)COc1ccccc1</td>\n",
              "      <td>inactive</td>\n",
              "      <td>409.486</td>\n",
              "      <td>2.1241</td>\n",
              "      <td>2.0</td>\n",
              "      <td>5.0</td>\n",
              "      <td>4.000000</td>\n",
              "    </tr>\n",
              "    <tr>\n",
              "      <th>1</th>\n",
              "      <td>CHEMBL4175102</td>\n",
              "      <td>COc1ccc(-c2cc(-c3ccc4cc(F)ccc4n3)n(-c3ccc(S(N)...</td>\n",
              "      <td>active</td>\n",
              "      <td>474.517</td>\n",
              "      <td>4.5496</td>\n",
              "      <td>1.0</td>\n",
              "      <td>6.0</td>\n",
              "      <td>6.136677</td>\n",
              "    </tr>\n",
              "    <tr>\n",
              "      <th>2</th>\n",
              "      <td>CHEMBL4526128</td>\n",
              "      <td>O=C(N[C@@H](Cc1ccc(O)cc1)C(=O)O)c1cc(-c2ccccc2...</td>\n",
              "      <td>intermediate</td>\n",
              "      <td>582.678</td>\n",
              "      <td>6.0240</td>\n",
              "      <td>3.0</td>\n",
              "      <td>7.0</td>\n",
              "      <td>5.167491</td>\n",
              "    </tr>\n",
              "    <tr>\n",
              "      <th>3</th>\n",
              "      <td>CHEMBL4443913</td>\n",
              "      <td>CCCCCCCCCCCCNCCNC(=O)C[C@@]1(O)C[C@@H](O)[C@@H...</td>\n",
              "      <td>intermediate</td>\n",
              "      <td>456.668</td>\n",
              "      <td>3.4091</td>\n",
              "      <td>4.0</td>\n",
              "      <td>6.0</td>\n",
              "      <td>5.161151</td>\n",
              "    </tr>\n",
              "    <tr>\n",
              "      <th>4</th>\n",
              "      <td>CHEMBL4572441</td>\n",
              "      <td>CCCCCCCCCCCCCCNCCNC(=O)C[C@]1(O)C[C@@H](O)[C@@...</td>\n",
              "      <td>intermediate</td>\n",
              "      <td>481.118</td>\n",
              "      <td>2.8128</td>\n",
              "      <td>6.0</td>\n",
              "      <td>6.0</td>\n",
              "      <td>5.187087</td>\n",
              "    </tr>\n",
              "    <tr>\n",
              "      <th>5</th>\n",
              "      <td>CHEMBL1138</td>\n",
              "      <td>O=C1[C@H](CC[C@H](O)c2ccc(F)cc2)[C@@H](c2ccc(O...</td>\n",
              "      <td>inactive</td>\n",
              "      <td>409.432</td>\n",
              "      <td>4.8883</td>\n",
              "      <td>2.0</td>\n",
              "      <td>3.0</td>\n",
              "      <td>4.883724</td>\n",
              "    </tr>\n",
              "    <tr>\n",
              "      <th>6</th>\n",
              "      <td>CHEMBL506569</td>\n",
              "      <td>CC(=O)O[C@H]1C[C@H](O[C@H]2[C@@H](O)C[C@H](O[C...</td>\n",
              "      <td>active</td>\n",
              "      <td>985.127</td>\n",
              "      <td>0.6131</td>\n",
              "      <td>8.0</td>\n",
              "      <td>20.0</td>\n",
              "      <td>6.301030</td>\n",
              "    </tr>\n",
              "    <tr>\n",
              "      <th>7</th>\n",
              "      <td>CHEMBL5176406</td>\n",
              "      <td>FC(F)(F)Oc1cccc(Nc2ccnc(Nc3cccc(OC(F)(F)F)c3)n...</td>\n",
              "      <td>intermediate</td>\n",
              "      <td>430.308</td>\n",
              "      <td>5.7610</td>\n",
              "      <td>2.0</td>\n",
              "      <td>6.0</td>\n",
              "      <td>5.301030</td>\n",
              "    </tr>\n",
              "    <tr>\n",
              "      <th>8</th>\n",
              "      <td>CHEMBL5182661</td>\n",
              "      <td>CC(=O)c1cccc(-c2cc(Nc3ccc(OC(F)(F)F)cc3)ncn2)c1</td>\n",
              "      <td>intermediate</td>\n",
              "      <td>373.334</td>\n",
              "      <td>4.9884</td>\n",
              "      <td>1.0</td>\n",
              "      <td>5.0</td>\n",
              "      <td>5.301030</td>\n",
              "    </tr>\n",
              "    <tr>\n",
              "      <th>9</th>\n",
              "      <td>CHEMBL263291</td>\n",
              "      <td>CC[C@H](C)[C@H]1O[C@]2(CC[C@@H]1C)C[C@@H]1C[C@...</td>\n",
              "      <td>intermediate</td>\n",
              "      <td>875.106</td>\n",
              "      <td>5.6014</td>\n",
              "      <td>3.0</td>\n",
              "      <td>14.0</td>\n",
              "      <td>5.779892</td>\n",
              "    </tr>\n",
              "  </tbody>\n",
              "</table>\n",
              "</div>"
            ],
            "text/plain": [
              "  molecule_chembl_id                                   canonical_smiles  \\\n",
              "0      CHEMBL2332247    O=C(CNCc1ccc(C(=O)N2CCCCC2)cc1)NC(=O)COc1ccccc1   \n",
              "1      CHEMBL4175102  COc1ccc(-c2cc(-c3ccc4cc(F)ccc4n3)n(-c3ccc(S(N)...   \n",
              "2      CHEMBL4526128  O=C(N[C@@H](Cc1ccc(O)cc1)C(=O)O)c1cc(-c2ccccc2...   \n",
              "3      CHEMBL4443913  CCCCCCCCCCCCNCCNC(=O)C[C@@]1(O)C[C@@H](O)[C@@H...   \n",
              "4      CHEMBL4572441  CCCCCCCCCCCCCCNCCNC(=O)C[C@]1(O)C[C@@H](O)[C@@...   \n",
              "5         CHEMBL1138  O=C1[C@H](CC[C@H](O)c2ccc(F)cc2)[C@@H](c2ccc(O...   \n",
              "6       CHEMBL506569  CC(=O)O[C@H]1C[C@H](O[C@H]2[C@@H](O)C[C@H](O[C...   \n",
              "7      CHEMBL5176406  FC(F)(F)Oc1cccc(Nc2ccnc(Nc3cccc(OC(F)(F)F)c3)n...   \n",
              "8      CHEMBL5182661    CC(=O)c1cccc(-c2cc(Nc3ccc(OC(F)(F)F)cc3)ncn2)c1   \n",
              "9       CHEMBL263291  CC[C@H](C)[C@H]1O[C@]2(CC[C@@H]1C)C[C@@H]1C[C@...   \n",
              "\n",
              "  bioactivity_class       MW    LogP  NumHDonors  NumHAcceptors     pIC50  \n",
              "0          inactive  409.486  2.1241         2.0            5.0  4.000000  \n",
              "1            active  474.517  4.5496         1.0            6.0  6.136677  \n",
              "2      intermediate  582.678  6.0240         3.0            7.0  5.167491  \n",
              "3      intermediate  456.668  3.4091         4.0            6.0  5.161151  \n",
              "4      intermediate  481.118  2.8128         6.0            6.0  5.187087  \n",
              "5          inactive  409.432  4.8883         2.0            3.0  4.883724  \n",
              "6            active  985.127  0.6131         8.0           20.0  6.301030  \n",
              "7      intermediate  430.308  5.7610         2.0            6.0  5.301030  \n",
              "8      intermediate  373.334  4.9884         1.0            5.0  5.301030  \n",
              "9      intermediate  875.106  5.6014         3.0           14.0  5.779892  "
            ]
          },
          "execution_count": 52,
          "metadata": {},
          "output_type": "execute_result"
        }
      ],
      "source": [
        "df_final = pIC50(df_norm)\n",
        "df_final"
      ]
    },
    {
      "cell_type": "code",
      "execution_count": 53,
      "metadata": {
        "id": "BoqY53udSTYC"
      },
      "outputs": [
        {
          "data": {
            "text/plain": [
              "count    10.000000\n",
              "mean      5.321911\n",
              "std       0.653236\n",
              "min       4.000000\n",
              "25%       5.162736\n",
              "50%       5.244058\n",
              "75%       5.660176\n",
              "max       6.301030\n",
              "Name: pIC50, dtype: float64"
            ]
          },
          "execution_count": 53,
          "metadata": {},
          "output_type": "execute_result"
        }
      ],
      "source": [
        "df_final.pIC50.describe()"
      ]
    },
    {
      "cell_type": "markdown",
      "metadata": {
        "id": "05vHBWvqaQtb"
      },
      "source": [
        "### **Removendo a classe de bioatividade 'intermediária' e 'nula'**\n",
        "Aqui, removeremos a classe ``intermediária`` do nosso conjunto de dados."
      ]
    },
    {
      "cell_type": "code",
      "execution_count": 54,
      "metadata": {
        "id": "HmrndhDW3c7Z"
      },
      "outputs": [
        {
          "data": {
            "text/html": [
              "<div>\n",
              "<style scoped>\n",
              "    .dataframe tbody tr th:only-of-type {\n",
              "        vertical-align: middle;\n",
              "    }\n",
              "\n",
              "    .dataframe tbody tr th {\n",
              "        vertical-align: top;\n",
              "    }\n",
              "\n",
              "    .dataframe thead th {\n",
              "        text-align: right;\n",
              "    }\n",
              "</style>\n",
              "<table border=\"1\" class=\"dataframe\">\n",
              "  <thead>\n",
              "    <tr style=\"text-align: right;\">\n",
              "      <th></th>\n",
              "      <th>molecule_chembl_id</th>\n",
              "      <th>canonical_smiles</th>\n",
              "      <th>bioactivity_class</th>\n",
              "      <th>MW</th>\n",
              "      <th>LogP</th>\n",
              "      <th>NumHDonors</th>\n",
              "      <th>NumHAcceptors</th>\n",
              "      <th>pIC50</th>\n",
              "    </tr>\n",
              "  </thead>\n",
              "  <tbody>\n",
              "    <tr>\n",
              "      <th>0</th>\n",
              "      <td>CHEMBL2332247</td>\n",
              "      <td>O=C(CNCc1ccc(C(=O)N2CCCCC2)cc1)NC(=O)COc1ccccc1</td>\n",
              "      <td>inactive</td>\n",
              "      <td>409.486</td>\n",
              "      <td>2.1241</td>\n",
              "      <td>2.0</td>\n",
              "      <td>5.0</td>\n",
              "      <td>4.000000</td>\n",
              "    </tr>\n",
              "    <tr>\n",
              "      <th>1</th>\n",
              "      <td>CHEMBL4175102</td>\n",
              "      <td>COc1ccc(-c2cc(-c3ccc4cc(F)ccc4n3)n(-c3ccc(S(N)...</td>\n",
              "      <td>active</td>\n",
              "      <td>474.517</td>\n",
              "      <td>4.5496</td>\n",
              "      <td>1.0</td>\n",
              "      <td>6.0</td>\n",
              "      <td>6.136677</td>\n",
              "    </tr>\n",
              "    <tr>\n",
              "      <th>5</th>\n",
              "      <td>CHEMBL1138</td>\n",
              "      <td>O=C1[C@H](CC[C@H](O)c2ccc(F)cc2)[C@@H](c2ccc(O...</td>\n",
              "      <td>inactive</td>\n",
              "      <td>409.432</td>\n",
              "      <td>4.8883</td>\n",
              "      <td>2.0</td>\n",
              "      <td>3.0</td>\n",
              "      <td>4.883724</td>\n",
              "    </tr>\n",
              "    <tr>\n",
              "      <th>6</th>\n",
              "      <td>CHEMBL506569</td>\n",
              "      <td>CC(=O)O[C@H]1C[C@H](O[C@H]2[C@@H](O)C[C@H](O[C...</td>\n",
              "      <td>active</td>\n",
              "      <td>985.127</td>\n",
              "      <td>0.6131</td>\n",
              "      <td>8.0</td>\n",
              "      <td>20.0</td>\n",
              "      <td>6.301030</td>\n",
              "    </tr>\n",
              "  </tbody>\n",
              "</table>\n",
              "</div>"
            ],
            "text/plain": [
              "  molecule_chembl_id                                   canonical_smiles  \\\n",
              "0      CHEMBL2332247    O=C(CNCc1ccc(C(=O)N2CCCCC2)cc1)NC(=O)COc1ccccc1   \n",
              "1      CHEMBL4175102  COc1ccc(-c2cc(-c3ccc4cc(F)ccc4n3)n(-c3ccc(S(N)...   \n",
              "5         CHEMBL1138  O=C1[C@H](CC[C@H](O)c2ccc(F)cc2)[C@@H](c2ccc(O...   \n",
              "6       CHEMBL506569  CC(=O)O[C@H]1C[C@H](O[C@H]2[C@@H](O)C[C@H](O[C...   \n",
              "\n",
              "  bioactivity_class       MW    LogP  NumHDonors  NumHAcceptors     pIC50  \n",
              "0          inactive  409.486  2.1241         2.0            5.0  4.000000  \n",
              "1            active  474.517  4.5496         1.0            6.0  6.136677  \n",
              "5          inactive  409.432  4.8883         2.0            3.0  4.883724  \n",
              "6            active  985.127  0.6131         8.0           20.0  6.301030  "
            ]
          },
          "execution_count": 54,
          "metadata": {},
          "output_type": "execute_result"
        }
      ],
      "source": [
        "df_2class = df_final[(df_final.bioactivity_class != 'intermediate')] #& (df_final.bioactivity_class.notna())]\n",
        "df_2class"
      ]
    },
    {
      "cell_type": "markdown",
      "metadata": {
        "id": "p9vA4-hQQ8sA"
      },
      "source": [
        "---"
      ]
    },
    {
      "cell_type": "markdown",
      "metadata": {
        "id": "x0vqbQWfxsZu"
      },
      "source": [
        "## **Análise Exploratória de Dados (Análise do Espaço Químico) via descritores de Lipinski**"
      ]
    },
    {
      "cell_type": "markdown",
      "metadata": {
        "id": "18heJagiyHoF"
      },
      "source": [
        "### **Importar biblioteca**"
      ]
    },
    {
      "cell_type": "code",
      "execution_count": 55,
      "metadata": {
        "id": "0Egq_rNsxtIj"
      },
      "outputs": [],
      "source": [
        "import seaborn as sns\n",
        "sns.set(style='ticks')\n",
        "import matplotlib.pyplot as plt"
      ]
    },
    {
      "cell_type": "markdown",
      "metadata": {
        "id": "NiarmFbOdG3H"
      },
      "source": [
        "### **Gráfico de frequência das 2 classes de bioatividade**"
      ]
    },
    {
      "cell_type": "code",
      "execution_count": 56,
      "metadata": {
        "id": "w2Ia0iycdMO2"
      },
      "outputs": [
        {
          "data": {
            "image/png": "[encoded data removed]",
            "text/plain": [
              "<Figure size 550x550 with 1 Axes>"
            ]
          },
          "metadata": {},
          "output_type": "display_data"
        }
      ],
      "source": [
        "plt.figure(figsize=(5.5, 5.5))\n",
        "\n",
        "sns.countplot(x='bioactivity_class', data=df_2class, edgecolor='black')\n",
        "\n",
        "plt.xlabel('Bioactivity class', fontsize=14, fontweight='bold')\n",
        "plt.ylabel('Frequency', fontsize=14, fontweight='bold')\n",
        "\n",
        "plt.savefig('plot_bioactivity_class.pdf')"
      ]
    },
    {
      "cell_type": "markdown",
      "metadata": {},
      "source": [
        "O gráfico sugere que os dados estão razoavelmente equilibrados, com um número significativo de compostos em ambas as categorias."
      ]
    },
    {
      "cell_type": "markdown",
      "metadata": {
        "id": "wB68NKVG0j68"
      },
      "source": [
        "### **Diagrama de dispersão de MW versus LogP**"
      ]
    },
    {
      "cell_type": "code",
      "execution_count": 57,
      "metadata": {
        "id": "F79BNwjF0nub"
      },
      "outputs": [
        {
          "data": {
            "image/png": "[encoded data removed]",
            "text/plain": [
              "<Figure size 550x550 with 1 Axes>"
            ]
          },
          "metadata": {},
          "output_type": "display_data"
        }
      ],
      "source": [
        "plt.figure(figsize=(5.5, 5.5))\n",
        "\n",
        "sns.scatterplot(x='MW', y='LogP', data=df_2class, hue='bioactivity_class', size='pIC50', edgecolor='black', alpha=0.7)\n",
        "\n",
        "plt.xlabel('Molecular Weigth', fontsize=14, fontweight='bold')\n",
        "plt.ylabel('LogP', fontsize=14, fontweight='bold')\n",
        "plt.legend(bbox_to_anchor=(1.05, 1), loc=2, borderaxespad=0)\n",
        "for i, (mw, logp) in enumerate(zip(df_2class['MW'], df_2class['LogP'])):\n",
        "    plt.text(mw, logp, str(i+1), fontsize=15, color='black')\n",
        "plt.savefig('plot_MW_vs_LogP.pdf')"
      ]
    },
    {
      "cell_type": "markdown",
      "metadata": {},
      "source": [
        "1. Este composto é classificado como inativo e tem um peso molecular moderado e um LogP relativamente baixo, o que indica baixa lipofilicidade. O valor de pIC50 baixo também reforça sua baixa atividade.\n",
        "2. Este composto ativo tem um peso molecular relativamente alto e um LogP elevado, o que indica uma maior lipofilicidade. O valor de pIC50 acima de 6 sugere uma boa atividade biológica.\n",
        "3. Este composto é inativo apesar do LogP elevado. Seu pIC50 abaixo de 5 reflete baixa atividade, embora tenha um perfil químico semelhante ao de compostos mais lipofílicos.\n",
        "4. Esse composto tem um peso molecular muito alto e um LogP muito baixo, indicando baixa lipofilicidade. Apesar disso, é altamente ativo, como mostra seu elevado pIC50, sugerindo que pode ter propriedades específicas que favorecem sua bioatividade.\n",
        "\n",
        "Atividade x Propriedades Físico-Químicas: A presença de compostos ativos e inativos em diferentes faixas de peso molecular e lipofilicidade indica que não há uma relação simples entre essas propriedades e a bioatividade. No entanto, compostos ativos tendem a ter pIC50 mais elevados, refletindo maior potência.\n",
        "Lipofilicidade: Compostos com LogP mais elevado geralmente são mais lipofílicos, mas isso não garante bioatividade, como no caso de CHEMBL1138, que é inativo apesar do alto LogP.\n",
        "Peso Molecular: Compostos com peso molecular maior, como CHEMBL506569, podem ser ativos mesmo com baixa lipofilicidade, sugerindo que outros fatores, como a estrutura molecular e a afinidade com o alvo biológico, desempenham um papel importante na atividade."
      ]
    },
    {
      "cell_type": "markdown",
      "metadata": {
        "id": "oLAfyRwHyJfX"
      },
      "source": [
        "### **Diagramas de caixa**"
      ]
    },
    {
      "cell_type": "markdown",
      "metadata": {
        "id": "1n1uIAivyOkY"
      },
      "source": [
        "#### **valor pIC50**"
      ]
    },
    {
      "cell_type": "code",
      "execution_count": 58,
      "metadata": {
        "id": "EpPviw0hxue6"
      },
      "outputs": [
        {
          "data": {
            "image/png": "[encoded data removed]",
            "text/plain": [
              "<Figure size 550x550 with 1 Axes>"
            ]
          },
          "metadata": {},
          "output_type": "display_data"
        }
      ],
      "source": [
        "plt.figure(figsize=(5.5, 5.5))\n",
        "\n",
        "sns.boxplot(x = 'bioactivity_class', y = 'pIC50', data = df_2class)\n",
        "\n",
        "plt.xlabel('Bioactivity class', fontsize=14, fontweight='bold')\n",
        "plt.ylabel('pIC50 value', fontsize=14, fontweight='bold')\n",
        "\n",
        "plt.savefig('plot_ic50.pdf')"
      ]
    },
    {
      "cell_type": "markdown",
      "metadata": {},
      "source": [
        "Classe Inativa:\n",
        "\n",
        "O valor de pIC50 para os compostos inativos está concentrado em torno de 4.0 a 5.0. Isso indica baixa potência para esses compostos, o que é consistente com sua classificação como inativos.\n",
        "A mediana está próxima de 4.5, sugerindo que a maioria dos compostos inativos tem potências muito baixas.\n",
        "Classe Ativa:\n",
        "\n",
        "Para os compostos ativos, os valores de pIC50 estão concentrados entre 5.5 e 6.0, indicando uma potência maior.\n",
        "A mediana está claramente mais alta do que na classe inativa, próxima de 6.0, o que mostra que compostos classificados como ativos têm, em geral, uma potência significativamente maior.\n",
        "\n",
        "O boxplot revela uma separação clara entre as classes de compostos ativos e inativos em termos de pIC50. Os compostos ativos possuem valores de pIC50 consistentemente maiores, o que confirma sua maior eficácia em relação aos compostos inativos.\n",
        "Esse gráfico é uma boa ferramenta para visualizar a diferença de potência entre as classes de bioatividade, mostrando que compostos com maior pIC50 tendem a ser mais ativos."
      ]
    },
    {
      "cell_type": "markdown",
      "metadata": {
        "id": "PsOqKyysCZCv"
      },
      "source": [
        "**Análise estatística | Teste U de Mann-Whitney**"
      ]
    },
    {
      "cell_type": "code",
      "execution_count": 59,
      "metadata": {
        "id": "LPdV1vDnWBsh"
      },
      "outputs": [],
      "source": [
        "def mannwhitney(descriptor, verbose=False):\n",
        "  # https://machinelearningmastery.com/nonparametric-statistical-significance-tests-in-python/\n",
        "  from numpy.random import seed\n",
        "  from numpy.random import randn\n",
        "  from scipy.stats import mannwhitneyu\n",
        "\n",
        "# seed the random number generator\n",
        "  seed(1)\n",
        "\n",
        "# actives and inactives\n",
        "  selection = [descriptor, 'bioactivity_class']\n",
        "  df = df_2class[selection]\n",
        "  active = df[df.bioactivity_class == 'active']\n",
        "  active = active[descriptor]\n",
        "\n",
        "  selection = [descriptor, 'bioactivity_class']\n",
        "  df = df_2class[selection]\n",
        "  inactive = df[df.bioactivity_class == 'inactive']\n",
        "  inactive = inactive[descriptor]\n",
        "\n",
        "# compare samples\n",
        "  stat, p = mannwhitneyu(active, inactive)\n",
        "  #print('Statistics=%.3f, p=%.3f' % (stat, p))\n",
        "\n",
        "# interpret\n",
        "  alpha = 0.05\n",
        "  if p > alpha:\n",
        "    interpretation = 'Same distribution (fail to reject H0)'\n",
        "  else:\n",
        "    interpretation = 'Different distribution (reject H0)'\n",
        "\n",
        "  results = pd.DataFrame({'Descriptor':descriptor,\n",
        "                          'Statistics':stat,\n",
        "                          'p':p,\n",
        "                          'alpha':alpha,\n",
        "                          'Interpretation':interpretation}, index=[0])\n",
        "  filename = 'mannwhitneyu_' + descriptor + '.csv'\n",
        "  results.to_csv(filename)\n",
        "\n",
        "  return results"
      ]
    },
    {
      "cell_type": "code",
      "execution_count": 60,
      "metadata": {
        "id": "HZmUgOmdYVm5"
      },
      "outputs": [
        {
          "data": {
            "text/html": [
              "<div>\n",
              "<style scoped>\n",
              "    .dataframe tbody tr th:only-of-type {\n",
              "        vertical-align: middle;\n",
              "    }\n",
              "\n",
              "    .dataframe tbody tr th {\n",
              "        vertical-align: top;\n",
              "    }\n",
              "\n",
              "    .dataframe thead th {\n",
              "        text-align: right;\n",
              "    }\n",
              "</style>\n",
              "<table border=\"1\" class=\"dataframe\">\n",
              "  <thead>\n",
              "    <tr style=\"text-align: right;\">\n",
              "      <th></th>\n",
              "      <th>Descriptor</th>\n",
              "      <th>Statistics</th>\n",
              "      <th>p</th>\n",
              "      <th>alpha</th>\n",
              "      <th>Interpretation</th>\n",
              "    </tr>\n",
              "  </thead>\n",
              "  <tbody>\n",
              "    <tr>\n",
              "      <th>0</th>\n",
              "      <td>pIC50</td>\n",
              "      <td>4.0</td>\n",
              "      <td>0.333333</td>\n",
              "      <td>0.05</td>\n",
              "      <td>Same distribution (fail to reject H0)</td>\n",
              "    </tr>\n",
              "  </tbody>\n",
              "</table>\n",
              "</div>"
            ],
            "text/plain": [
              "  Descriptor  Statistics         p  alpha  \\\n",
              "0      pIC50         4.0  0.333333   0.05   \n",
              "\n",
              "                          Interpretation  \n",
              "0  Same distribution (fail to reject H0)  "
            ]
          },
          "execution_count": 60,
          "metadata": {},
          "output_type": "execute_result"
        }
      ],
      "source": [
        "mannwhitney('pIC50')"
      ]
    },
    {
      "cell_type": "markdown",
      "metadata": {},
      "source": [
        "Com base nesses resultados, podemos concluir que não há uma diferença estatisticamente significativa entre os valores de pIC50 nas classes \"ativa\" e \"inativa\". Isso sugere que a distribuição de pIC50 é semelhante entre essas duas classes de compostos. Portanto, não há indícios de que a potência (pIC50) dos compostos ativos e inativos seja diferente no contexto analisado."
      ]
    },
    {
      "cell_type": "markdown",
      "metadata": {
        "id": "o2UlCwPmyTBq"
      },
      "source": [
        "#### **Molecular Weight**"
      ]
    },
    {
      "cell_type": "code",
      "execution_count": 61,
      "metadata": {
        "id": "ZNlEEsDEx3m6"
      },
      "outputs": [
        {
          "data": {
            "image/png": "[encoded data removed]",
            "text/plain": [
              "<Figure size 550x550 with 1 Axes>"
            ]
          },
          "metadata": {},
          "output_type": "display_data"
        }
      ],
      "source": [
        "plt.figure(figsize=(5.5, 5.5))\n",
        "\n",
        "sns.boxplot(x = 'bioactivity_class', y = 'MW', data = df_2class)\n",
        "\n",
        "plt.xlabel('Bioactivity class', fontsize=14, fontweight='bold')\n",
        "plt.ylabel('MW', fontsize=14, fontweight='bold')\n",
        "\n",
        "plt.savefig('plot_MW.pdf')"
      ]
    },
    {
      "cell_type": "markdown",
      "metadata": {},
      "source": [
        "Classe Inativa:\n",
        "\n",
        "Os compostos inativos têm pesos moleculares concentrados entre 400 e 500. Isso indica que compostos com pesos moleculares relativamente menores estão tendendo a ser inativos.\n",
        "A mediana da classe inativa está próxima de 400, sugerindo que a maioria dos compostos inativos tem pesos moleculares baixos.\n",
        "Classe Ativa:\n",
        "\n",
        "Para os compostos ativos, os pesos moleculares se distribuem em uma faixa mais ampla, de aproximadamente 400 até quase 1000.\n",
        "A mediana para os compostos ativos está significativamente mais alta, em torno de 800, indicando que compostos mais pesados tendem a ser classificados como ativos.\n",
        "Conclusão:\n",
        "Diferença Visível: O gráfico sugere uma diferença visível entre os compostos ativos e inativos em termos de peso molecular. Compostos com maior peso molecular parecem estar mais frequentemente associados à bioatividade, enquanto os compostos inativos possuem pesos moleculares menores.\n",
        "Distribuição: A faixa de variação dos pesos moleculares dos compostos ativos é bem mais ampla, sugerindo que compostos com pesos moleculares maiores têm maior probabilidade de serem bioativos."
      ]
    },
    {
      "cell_type": "code",
      "execution_count": 62,
      "metadata": {
        "id": "wRl2FvgHYqaG"
      },
      "outputs": [
        {
          "data": {
            "text/html": [
              "<div>\n",
              "<style scoped>\n",
              "    .dataframe tbody tr th:only-of-type {\n",
              "        vertical-align: middle;\n",
              "    }\n",
              "\n",
              "    .dataframe tbody tr th {\n",
              "        vertical-align: top;\n",
              "    }\n",
              "\n",
              "    .dataframe thead th {\n",
              "        text-align: right;\n",
              "    }\n",
              "</style>\n",
              "<table border=\"1\" class=\"dataframe\">\n",
              "  <thead>\n",
              "    <tr style=\"text-align: right;\">\n",
              "      <th></th>\n",
              "      <th>Descriptor</th>\n",
              "      <th>Statistics</th>\n",
              "      <th>p</th>\n",
              "      <th>alpha</th>\n",
              "      <th>Interpretation</th>\n",
              "    </tr>\n",
              "  </thead>\n",
              "  <tbody>\n",
              "    <tr>\n",
              "      <th>0</th>\n",
              "      <td>MW</td>\n",
              "      <td>4.0</td>\n",
              "      <td>0.333333</td>\n",
              "      <td>0.05</td>\n",
              "      <td>Same distribution (fail to reject H0)</td>\n",
              "    </tr>\n",
              "  </tbody>\n",
              "</table>\n",
              "</div>"
            ],
            "text/plain": [
              "  Descriptor  Statistics         p  alpha  \\\n",
              "0         MW         4.0  0.333333   0.05   \n",
              "\n",
              "                          Interpretation  \n",
              "0  Same distribution (fail to reject H0)  "
            ]
          },
          "execution_count": 62,
          "metadata": {},
          "output_type": "execute_result"
        }
      ],
      "source": [
        "mannwhitney('MW')"
      ]
    },
    {
      "cell_type": "markdown",
      "metadata": {},
      "source": [
        "Com base nesses resultados, podemos concluir que não há uma diferença estatisticamente significativa entre os valores de pIC50 nas classes \"ativa\" e \"inativa\". Isso sugere que a distribuição de pIC50 é semelhante entre essas duas classes de compostos. Portanto, não há indícios de que a potência (pIC50) dos compostos ativos e inativos seja diferente no contexto analisado."
      ]
    },
    {
      "cell_type": "markdown",
      "metadata": {
        "id": "z5hyBhGqyc6J"
      },
      "source": [
        "#### **LogP**"
      ]
    },
    {
      "cell_type": "code",
      "execution_count": 63,
      "metadata": {
        "id": "liEtkpI4yX9t"
      },
      "outputs": [
        {
          "data": {
            "image/png": "[encoded data removed]",
            "text/plain": [
              "<Figure size 550x550 with 1 Axes>"
            ]
          },
          "metadata": {},
          "output_type": "display_data"
        }
      ],
      "source": [
        "plt.figure(figsize=(5.5, 5.5))\n",
        "\n",
        "sns.boxplot(x = 'bioactivity_class', y = 'LogP', data = df_2class)\n",
        "\n",
        "plt.xlabel('Bioactivity class', fontsize=14, fontweight='bold')\n",
        "plt.ylabel('LogP', fontsize=14, fontweight='bold')\n",
        "\n",
        "plt.savefig('plot_LogP.pdf')"
      ]
    },
    {
      "cell_type": "markdown",
      "metadata": {},
      "source": [
        "Elementos do Gráfico:\n",
        "Eixo X (Bioactivity Class): Mostra as classes de bioatividade — \"inactive\" (inativo) e \"active\" (ativo).\n",
        "Eixo Y (LogP): Representa o coeficiente de partição octanol-água (LogP), que mede a lipofilicidade dos compostos. A escala varia de aproximadamente 1 a 5.\n",
        "Interpretação:\n",
        "Classe Inativa:\n",
        "Os compostos inativos apresentam LogP concentrado entre 2.0 e 5.0. A mediana está em torno de 4.0, indicando que a maioria dos compostos inativos tem uma lipofilicidade moderada a alta.\n",
        "Classe Ativa:\n",
        "Os compostos ativos têm uma distribuição de LogP entre 1.0 e 5.0, com uma mediana em torno de 4.5. Isso sugere que os compostos ativos tendem a ser um pouco mais lipofílicos do que os compostos inativos, embora haja sobreposição nas faixas de LogP.\n",
        "Conclusão:\n",
        "Diferença Moderada: Embora compostos ativos tenham um LogP ligeiramente maior em média, a sobreposição significativa entre as classes indica que o LogP sozinho não é um fator determinante na diferenciação entre compostos ativos e inativos.\n",
        "Distribuição Semelhante: Tanto compostos ativos quanto inativos mostram uma distribuição ampla de LogP, com uma concentração maior em valores entre 3 e 5, o que sugere que a lipofilicidade tem um papel importante, mas não exclusivo, na bioatividade dos compostos.\n",
        "Esse gráfico sugere uma distribuição semelhante para as duas classes, com uma leve tendência de compostos ativos apresentarem LogP mais alto."
      ]
    },
    {
      "cell_type": "markdown",
      "metadata": {
        "id": "2KgV5v_oFLXh"
      },
      "source": [
        "**Análise estatística | Teste U de Mann-Whitney**"
      ]
    },
    {
      "cell_type": "code",
      "execution_count": 64,
      "metadata": {
        "id": "B61UsGMIFLuE"
      },
      "outputs": [
        {
          "data": {
            "text/html": [
              "<div>\n",
              "<style scoped>\n",
              "    .dataframe tbody tr th:only-of-type {\n",
              "        vertical-align: middle;\n",
              "    }\n",
              "\n",
              "    .dataframe tbody tr th {\n",
              "        vertical-align: top;\n",
              "    }\n",
              "\n",
              "    .dataframe thead th {\n",
              "        text-align: right;\n",
              "    }\n",
              "</style>\n",
              "<table border=\"1\" class=\"dataframe\">\n",
              "  <thead>\n",
              "    <tr style=\"text-align: right;\">\n",
              "      <th></th>\n",
              "      <th>Descriptor</th>\n",
              "      <th>Statistics</th>\n",
              "      <th>p</th>\n",
              "      <th>alpha</th>\n",
              "      <th>Interpretation</th>\n",
              "    </tr>\n",
              "  </thead>\n",
              "  <tbody>\n",
              "    <tr>\n",
              "      <th>0</th>\n",
              "      <td>LogP</td>\n",
              "      <td>1.0</td>\n",
              "      <td>0.666667</td>\n",
              "      <td>0.05</td>\n",
              "      <td>Same distribution (fail to reject H0)</td>\n",
              "    </tr>\n",
              "  </tbody>\n",
              "</table>\n",
              "</div>"
            ],
            "text/plain": [
              "  Descriptor  Statistics         p  alpha  \\\n",
              "0       LogP         1.0  0.666667   0.05   \n",
              "\n",
              "                          Interpretation  \n",
              "0  Same distribution (fail to reject H0)  "
            ]
          },
          "execution_count": 64,
          "metadata": {},
          "output_type": "execute_result"
        }
      ],
      "source": [
        "mannwhitney('LogP')"
      ]
    },
    {
      "cell_type": "markdown",
      "metadata": {},
      "source": [
        "Com base nesses resultados, podemos concluir que não há uma diferença estatisticamente significativa entre os valores de pIC50 nas classes \"ativa\" e \"inativa\". Isso sugere que a distribuição de pIC50 é semelhante entre essas duas classes de compostos. Portanto, não há indícios de que a potência (pIC50) dos compostos ativos e inativos seja diferente no contexto analisado."
      ]
    },
    {
      "cell_type": "markdown",
      "metadata": {
        "id": "4db7LZLRym2k"
      },
      "source": [
        "#### **NumHDonors**"
      ]
    },
    {
      "cell_type": "code",
      "execution_count": 65,
      "metadata": {
        "id": "iru1JPM1yg5A"
      },
      "outputs": [
        {
          "data": {
            "image/png": "[encoded data removed]",
            "text/plain": [
              "<Figure size 550x550 with 1 Axes>"
            ]
          },
          "metadata": {},
          "output_type": "display_data"
        }
      ],
      "source": [
        "plt.figure(figsize=(5.5, 5.5))\n",
        "\n",
        "sns.boxplot(x = 'bioactivity_class', y = 'NumHDonors', data = df_2class)\n",
        "\n",
        "plt.xlabel('Bioactivity class', fontsize=14, fontweight='bold')\n",
        "plt.ylabel('NumHDonors', fontsize=14, fontweight='bold')\n",
        "\n",
        "plt.savefig('plot_NumHDonors.pdf')"
      ]
    },
    {
      "cell_type": "markdown",
      "metadata": {},
      "source": [
        "Interpretação:\n",
        "Classe Inativa:\n",
        "Os compostos inativos possuem NumHDonors variando entre 2 e 5, com a mediana próxima de 3. Isso indica que a maioria dos compostos inativos tem um número moderado de doadores de hidrogênio.\n",
        "Classe Ativa:\n",
        "Os compostos ativos têm uma maior variação no número de doadores de hidrogênio, entre 1 e 8. A mediana para essa classe está próxima de 4, o que sugere que compostos ativos tendem a ter mais doadores de hidrogênio em comparação com os compostos inativos.\n",
        "Conclusão:\n",
        "Diferença Visível: Compostos ativos possuem uma faixa mais ampla de NumHDonors, com valores mais altos quando comparados aos compostos inativos, sugerindo que compostos com maior número de doadores de hidrogênio tendem a ser mais bioativos.\n",
        "Distribuição: A classe ativa tem uma distribuição mais dispersa e inclui compostos com até 8 doadores de hidrogênio, o que pode indicar uma relação positiva entre o número de doadores de hidrogênio e a atividade biológica.\n",
        "Esse gráfico sugere que o número de doadores de hidrogênio pode ser um fator relevante para determinar a bioatividade, já que compostos ativos possuem mais doadores em média​"
      ]
    },
    {
      "cell_type": "markdown",
      "metadata": {
        "id": "vM5vZWanFe3c"
      },
      "source": [
        "**Análise estatística | Teste U de Mann-Whitney**"
      ]
    },
    {
      "cell_type": "code",
      "execution_count": 66,
      "metadata": {
        "id": "mS-rOqq7Fd1E"
      },
      "outputs": [
        {
          "data": {
            "text/html": [
              "<div>\n",
              "<style scoped>\n",
              "    .dataframe tbody tr th:only-of-type {\n",
              "        vertical-align: middle;\n",
              "    }\n",
              "\n",
              "    .dataframe tbody tr th {\n",
              "        vertical-align: top;\n",
              "    }\n",
              "\n",
              "    .dataframe thead th {\n",
              "        text-align: right;\n",
              "    }\n",
              "</style>\n",
              "<table border=\"1\" class=\"dataframe\">\n",
              "  <thead>\n",
              "    <tr style=\"text-align: right;\">\n",
              "      <th></th>\n",
              "      <th>Descriptor</th>\n",
              "      <th>Statistics</th>\n",
              "      <th>p</th>\n",
              "      <th>alpha</th>\n",
              "      <th>Interpretation</th>\n",
              "    </tr>\n",
              "  </thead>\n",
              "  <tbody>\n",
              "    <tr>\n",
              "      <th>0</th>\n",
              "      <td>NumHDonors</td>\n",
              "      <td>2.0</td>\n",
              "      <td>1.0</td>\n",
              "      <td>0.05</td>\n",
              "      <td>Same distribution (fail to reject H0)</td>\n",
              "    </tr>\n",
              "  </tbody>\n",
              "</table>\n",
              "</div>"
            ],
            "text/plain": [
              "   Descriptor  Statistics    p  alpha                         Interpretation\n",
              "0  NumHDonors         2.0  1.0   0.05  Same distribution (fail to reject H0)"
            ]
          },
          "execution_count": 66,
          "metadata": {},
          "output_type": "execute_result"
        }
      ],
      "source": [
        "mannwhitney('NumHDonors')"
      ]
    },
    {
      "cell_type": "markdown",
      "metadata": {
        "id": "yOYQ3QiSyu7-"
      },
      "source": [
        "#### **NumHAcceptors**"
      ]
    },
    {
      "cell_type": "code",
      "execution_count": 67,
      "metadata": {
        "id": "yCw6tgNCyxHf"
      },
      "outputs": [
        {
          "data": {
            "image/png": "[encoded data removed]",
            "text/plain": [
              "<Figure size 550x550 with 1 Axes>"
            ]
          },
          "metadata": {},
          "output_type": "display_data"
        }
      ],
      "source": [
        "plt.figure(figsize=(5.5, 5.5))\n",
        "\n",
        "sns.boxplot(x = 'bioactivity_class', y = 'NumHAcceptors', data = df_2class)\n",
        "\n",
        "plt.xlabel('Bioactivity class', fontsize=14, fontweight='bold')\n",
        "plt.ylabel('NumHAcceptors', fontsize=14, fontweight='bold')\n",
        "\n",
        "plt.savefig('plot_NumHAcceptors.pdf')"
      ]
    },
    {
      "cell_type": "markdown",
      "metadata": {},
      "source": [
        "Interpretação:\n",
        "Classe Inativa:\n",
        "Os compostos inativos apresentam um número de aceitadores de hidrogênio que varia entre 5 e 10, com a mediana próxima de 7.5. Isso indica que a maioria dos compostos inativos tem um número moderado de aceitadores de hidrogênio.\n",
        "Classe Ativa:\n",
        "Os compostos ativos possuem uma distribuição mais ampla, com NumHAcceptors variando de aproximadamente 5 a 20, sendo a mediana por volta de 15. Isso sugere que compostos bioativos tendem a ter mais aceitadores de hidrogênio.\n",
        "Conclusão:\n",
        "Diferença Visível: O gráfico indica que os compostos ativos tendem a ter um número significativamente maior de aceitadores de hidrogênio em comparação com os compostos inativos.\n",
        "Distribuição: A faixa de aceitadores de hidrogênio nos compostos ativos é mais ampla, sugerindo que compostos com mais de 10 aceitadores de hidrogênio são mais propensos a serem bioativos.\n",
        "Esse padrão sugere que o número de aceitadores de hidrogênio pode estar correlacionado com a bioatividade dos compostos, sendo um fator importante para determinar a eficácia biológica​"
      ]
    },
    {
      "cell_type": "code",
      "execution_count": 68,
      "metadata": {
        "id": "NEQoDZctFtGG"
      },
      "outputs": [
        {
          "data": {
            "text/html": [
              "<div>\n",
              "<style scoped>\n",
              "    .dataframe tbody tr th:only-of-type {\n",
              "        vertical-align: middle;\n",
              "    }\n",
              "\n",
              "    .dataframe tbody tr th {\n",
              "        vertical-align: top;\n",
              "    }\n",
              "\n",
              "    .dataframe thead th {\n",
              "        text-align: right;\n",
              "    }\n",
              "</style>\n",
              "<table border=\"1\" class=\"dataframe\">\n",
              "  <thead>\n",
              "    <tr style=\"text-align: right;\">\n",
              "      <th></th>\n",
              "      <th>Descriptor</th>\n",
              "      <th>Statistics</th>\n",
              "      <th>p</th>\n",
              "      <th>alpha</th>\n",
              "      <th>Interpretation</th>\n",
              "    </tr>\n",
              "  </thead>\n",
              "  <tbody>\n",
              "    <tr>\n",
              "      <th>0</th>\n",
              "      <td>NumHAcceptors</td>\n",
              "      <td>4.0</td>\n",
              "      <td>0.333333</td>\n",
              "      <td>0.05</td>\n",
              "      <td>Same distribution (fail to reject H0)</td>\n",
              "    </tr>\n",
              "  </tbody>\n",
              "</table>\n",
              "</div>"
            ],
            "text/plain": [
              "      Descriptor  Statistics         p  alpha  \\\n",
              "0  NumHAcceptors         4.0  0.333333   0.05   \n",
              "\n",
              "                          Interpretation  \n",
              "0  Same distribution (fail to reject H0)  "
            ]
          },
          "execution_count": 68,
          "metadata": {},
          "output_type": "execute_result"
        }
      ],
      "source": [
        "mannwhitney('NumHAcceptors')"
      ]
    },
    {
      "cell_type": "markdown",
      "metadata": {},
      "source": [
        "Considerações Finais:\n",
        "O peso molecular (MW) e o número de aceitadores de hidrogênio parecem ser os fatores mais diferenciadores entre compostos bioativos e inativos.\n",
        "Embora o LogP e o número de doadores de hidrogênio também mostrem alguma variação, as diferenças não são tão marcantes quanto em MW e NumHAcceptors.\n",
        "A bioatividade dos compostos parece ser correlacionada com o aumento da complexidade molecular (maior peso molecular e maior número de doadores/aceitadores de hidrogênio)."
      ]
    }
  ],
  "metadata": {
    "colab": {
      "provenance": []
    },
    "kernelspec": {
      "display_name": "Python 3",
      "name": "python3"
    },
    "language_info": {
      "codemirror_mode": {
        "name": "ipython",
        "version": 3
      },
      "file_extension": ".py",
      "mimetype": "text/x-python",
      "name": "python",
      "nbconvert_exporter": "python",
      "pygments_lexer": "ipython3",
      "version": "3.11.9"
    }
  },
  "nbformat": 4,
  "nbformat_minor": 0
}
